{
 "cells": [
  {
   "cell_type": "markdown",
   "metadata": {},
   "source": [
    "# Pytorch 1\n",
    "\n",
    "<p>This is the first notebook in the pytorch learning. I used the reference of Daniel Burke.</p>"
   ]
  },
  {
   "cell_type": "markdown",
   "metadata": {},
   "source": [
    "### What is Deep Learning?\n",
    "\n",
    "Deep Learning is subset of machine learning.<br>\n",
    "\n",
    "#### Why use machine learing(or deep learning)?\n",
    "\n",
    "Mainly to learn the rules of defining the output.<br>"
   ]
  },
  {
   "cell_type": "markdown",
   "metadata": {},
   "source": []
  }
 ],
 "metadata": {
  "language_info": {
   "name": "python"
  }
 },
 "nbformat": 4,
 "nbformat_minor": 2
}
